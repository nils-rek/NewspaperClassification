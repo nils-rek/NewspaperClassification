{
    "cells": [
        {
            "cell_type": "markdown",
            "metadata": {
                "collapsed": true
            },
            "source": "# Newspaper classification\n\n## Setup\n\n\nRelevant libraries are imported:"
        },
        {
            "cell_type": "code",
            "execution_count": 1,
            "metadata": {},
            "outputs": [],
            "source": "from project_lib import Project\nimport numpy as np\nimport pandas as pd\nfrom sklearn.model_selection import train_test_split\nfrom sklearn import preprocessing\nfrom sklearn.model_selection import GridSearchCV\nfrom sklearn import svm\nfrom sklearn.ensemble import GradientBoostingClassifier\nfrom sklearn.metrics import accuracy_score\nfrom sklearn.metrics import f1_score\nfrom tensorflow import keras\nfrom tensorflow.keras import backend as K"
        },
        {
            "cell_type": "markdown",
            "metadata": {},
            "source": "Data is loaded:"
        },
        {
            "cell_type": "code",
            "execution_count": 2,
            "metadata": {},
            "outputs": [],
            "source": "# The code was removed by Watson Studio for sharing."
        },
        {
            "cell_type": "code",
            "execution_count": 3,
            "metadata": {},
            "outputs": [],
            "source": "project = Project(project_id = project_id, project_access_token = project_token)"
        },
        {
            "cell_type": "code",
            "execution_count": 4,
            "metadata": {
                "scrolled": true
            },
            "outputs": [
                {
                    "data": {
                        "text/html": "<div>\n<style scoped>\n    .dataframe tbody tr th:only-of-type {\n        vertical-align: middle;\n    }\n\n    .dataframe tbody tr th {\n        vertical-align: top;\n    }\n\n    .dataframe thead th {\n        text-align: right;\n    }\n</style>\n<table border=\"1\" class=\"dataframe\">\n  <thead>\n    <tr style=\"text-align: right;\">\n      <th></th>\n      <th>Title</th>\n      <th>Newspaper</th>\n      <th>DateTime</th>\n      <th>title_nlp_0</th>\n      <th>title_nlp_1</th>\n      <th>title_nlp_2</th>\n      <th>title_nlp_3</th>\n      <th>title_nlp_4</th>\n      <th>title_nlp_5</th>\n      <th>title_nlp_6</th>\n      <th>...</th>\n      <th>title_nlp_91</th>\n      <th>title_nlp_92</th>\n      <th>title_nlp_93</th>\n      <th>title_nlp_94</th>\n      <th>title_nlp_95</th>\n      <th>title_polarity</th>\n      <th>title_subjectivity</th>\n      <th>title_length</th>\n      <th>title_word_count</th>\n      <th>title_avg_word_length</th>\n    </tr>\n  </thead>\n  <tbody>\n    <tr>\n      <th>0</th>\n      <td>Taliban versprechen \"Amnestie\" - und werben f\u00fc...</td>\n      <td>SZ</td>\n      <td>2021-08-17 10:00:51.109716</td>\n      <td>1.056343</td>\n      <td>-0.331942</td>\n      <td>0.377576</td>\n      <td>-0.755563</td>\n      <td>1.121652</td>\n      <td>1.051834</td>\n      <td>-0.692204</td>\n      <td>...</td>\n      <td>-0.145574</td>\n      <td>0.003700</td>\n      <td>-0.349982</td>\n      <td>-0.764239</td>\n      <td>-0.042902</td>\n      <td>1.0</td>\n      <td>0.0</td>\n      <td>73</td>\n      <td>11</td>\n      <td>5.727273</td>\n    </tr>\n    <tr>\n      <th>1</th>\n      <td>Frau tot aus dem Wasser geborgen</td>\n      <td>SZ</td>\n      <td>2021-08-17 10:00:51.109716</td>\n      <td>0.482346</td>\n      <td>-1.360563</td>\n      <td>2.204261</td>\n      <td>-0.980908</td>\n      <td>0.938673</td>\n      <td>2.182759</td>\n      <td>0.753072</td>\n      <td>...</td>\n      <td>-1.245529</td>\n      <td>-0.426957</td>\n      <td>-0.187530</td>\n      <td>0.610376</td>\n      <td>-0.090306</td>\n      <td>-1.0</td>\n      <td>0.0</td>\n      <td>32</td>\n      <td>6</td>\n      <td>4.500000</td>\n    </tr>\n    <tr>\n      <th>2</th>\n      <td>Wenn ein einzelner Corona-Fall zum Lockdown f\u00fchrt</td>\n      <td>SZ</td>\n      <td>2021-08-17 10:00:51.109716</td>\n      <td>0.719709</td>\n      <td>0.718557</td>\n      <td>1.878793</td>\n      <td>0.517712</td>\n      <td>0.685538</td>\n      <td>1.683592</td>\n      <td>0.760514</td>\n      <td>...</td>\n      <td>1.376056</td>\n      <td>0.862674</td>\n      <td>-1.260844</td>\n      <td>-0.054087</td>\n      <td>-0.305862</td>\n      <td>0.0</td>\n      <td>0.0</td>\n      <td>49</td>\n      <td>7</td>\n      <td>6.142857</td>\n    </tr>\n    <tr>\n      <th>3</th>\n      <td>Mit diesen Argumenten \u00fcberzeugen Sie Impfskept...</td>\n      <td>SZ</td>\n      <td>2021-08-17 10:00:51.109716</td>\n      <td>1.173115</td>\n      <td>0.131595</td>\n      <td>-1.171353</td>\n      <td>-0.516909</td>\n      <td>-0.515251</td>\n      <td>1.939519</td>\n      <td>1.228320</td>\n      <td>...</td>\n      <td>-1.644382</td>\n      <td>-1.046088</td>\n      <td>-1.202309</td>\n      <td>0.199285</td>\n      <td>1.258943</td>\n      <td>1.0</td>\n      <td>0.0</td>\n      <td>50</td>\n      <td>6</td>\n      <td>7.500000</td>\n    </tr>\n    <tr>\n      <th>4</th>\n      <td>Vier Silben n\u00e4hren die Titelhoffnungen</td>\n      <td>SZ</td>\n      <td>2021-08-17 10:00:51.109716</td>\n      <td>1.485402</td>\n      <td>-0.082825</td>\n      <td>0.894071</td>\n      <td>0.251246</td>\n      <td>-0.263389</td>\n      <td>0.542428</td>\n      <td>1.021385</td>\n      <td>...</td>\n      <td>-0.847832</td>\n      <td>-0.782896</td>\n      <td>-1.793984</td>\n      <td>2.312975</td>\n      <td>-0.406768</td>\n      <td>0.0</td>\n      <td>0.0</td>\n      <td>38</td>\n      <td>5</td>\n      <td>6.800000</td>\n    </tr>\n  </tbody>\n</table>\n<p>5 rows \u00d7 104 columns</p>\n</div>",
                        "text/plain": "                                               Title Newspaper  \\\n0  Taliban versprechen \"Amnestie\" - und werben f\u00fc...        SZ   \n1                   Frau tot aus dem Wasser geborgen        SZ   \n2  Wenn ein einzelner Corona-Fall zum Lockdown f\u00fchrt        SZ   \n3  Mit diesen Argumenten \u00fcberzeugen Sie Impfskept...        SZ   \n4             Vier Silben n\u00e4hren die Titelhoffnungen        SZ   \n\n                     DateTime  title_nlp_0  title_nlp_1  title_nlp_2  \\\n0  2021-08-17 10:00:51.109716     1.056343    -0.331942     0.377576   \n1  2021-08-17 10:00:51.109716     0.482346    -1.360563     2.204261   \n2  2021-08-17 10:00:51.109716     0.719709     0.718557     1.878793   \n3  2021-08-17 10:00:51.109716     1.173115     0.131595    -1.171353   \n4  2021-08-17 10:00:51.109716     1.485402    -0.082825     0.894071   \n\n   title_nlp_3  title_nlp_4  title_nlp_5  title_nlp_6  ...  title_nlp_91  \\\n0    -0.755563     1.121652     1.051834    -0.692204  ...     -0.145574   \n1    -0.980908     0.938673     2.182759     0.753072  ...     -1.245529   \n2     0.517712     0.685538     1.683592     0.760514  ...      1.376056   \n3    -0.516909    -0.515251     1.939519     1.228320  ...     -1.644382   \n4     0.251246    -0.263389     0.542428     1.021385  ...     -0.847832   \n\n   title_nlp_92  title_nlp_93  title_nlp_94  title_nlp_95  title_polarity  \\\n0      0.003700     -0.349982     -0.764239     -0.042902             1.0   \n1     -0.426957     -0.187530      0.610376     -0.090306            -1.0   \n2      0.862674     -1.260844     -0.054087     -0.305862             0.0   \n3     -1.046088     -1.202309      0.199285      1.258943             1.0   \n4     -0.782896     -1.793984      2.312975     -0.406768             0.0   \n\n   title_subjectivity  title_length  title_word_count  title_avg_word_length  \n0                 0.0            73                11               5.727273  \n1                 0.0            32                 6               4.500000  \n2                 0.0            49                 7               6.142857  \n3                 0.0            50                 6               7.500000  \n4                 0.0            38                 5               6.800000  \n\n[5 rows x 104 columns]"
                    },
                    "execution_count": 4,
                    "metadata": {},
                    "output_type": "execute_result"
                }
            ],
            "source": "df_file = project.get_file(\"Newspaper_Data_Processed.csv\")\ndf_file.seek(0)\ndf = pd.read_csv(df_file)\n\ndf.head()"
        },
        {
            "cell_type": "markdown",
            "metadata": {},
            "source": "The shape of the data is: "
        },
        {
            "cell_type": "code",
            "execution_count": 5,
            "metadata": {},
            "outputs": [
                {
                    "data": {
                        "text/plain": "(313, 104)"
                    },
                    "execution_count": 5,
                    "metadata": {},
                    "output_type": "execute_result"
                }
            ],
            "source": "df.shape"
        },
        {
            "cell_type": "markdown",
            "metadata": {},
            "source": "For each newspaper, the following number of title entries is available:"
        },
        {
            "cell_type": "code",
            "execution_count": 6,
            "metadata": {},
            "outputs": [
                {
                    "data": {
                        "text/html": "<div>\n<style scoped>\n    .dataframe tbody tr th:only-of-type {\n        vertical-align: middle;\n    }\n\n    .dataframe tbody tr th {\n        vertical-align: top;\n    }\n\n    .dataframe thead th {\n        text-align: right;\n    }\n</style>\n<table border=\"1\" class=\"dataframe\">\n  <thead>\n    <tr style=\"text-align: right;\">\n      <th></th>\n      <th>Title</th>\n    </tr>\n    <tr>\n      <th>Newspaper</th>\n      <th></th>\n    </tr>\n  </thead>\n  <tbody>\n    <tr>\n      <th>SZ</th>\n      <td>118</td>\n    </tr>\n    <tr>\n      <th>Welt</th>\n      <td>195</td>\n    </tr>\n  </tbody>\n</table>\n</div>",
                        "text/plain": "           Title\nNewspaper       \nSZ           118\nWelt         195"
                    },
                    "execution_count": 6,
                    "metadata": {},
                    "output_type": "execute_result"
                }
            ],
            "source": "df[['Newspaper', 'Title']].groupby('Newspaper').count()"
        },
        {
            "cell_type": "markdown",
            "metadata": {},
            "source": "Classification-relevant variables are defined:"
        },
        {
            "cell_type": "code",
            "execution_count": 7,
            "metadata": {},
            "outputs": [],
            "source": "number_newspapers = df['Newspaper'].nunique()\n\nfeature_columns = [col for col in df.columns if 'title_nlp_' in col]\nfeature_columns.extend(['title_polarity', 'title_subjectivity'])\nfeature_columns.extend(['title_length', 'title_word_count', 'title_avg_word_length'])"
        },
        {
            "cell_type": "markdown",
            "metadata": {},
            "source": "## Training & test split\n\nData is split into training and test sets using 80% for training and 20% for testing:"
        },
        {
            "cell_type": "code",
            "execution_count": 8,
            "metadata": {},
            "outputs": [],
            "source": "n_samples, n_features = df.shape[0], len(feature_columns)\nrng = np.random.RandomState(0)\n\nX = np.array(df[feature_columns])\ny = np.array(df['Newspaper'])\n\nX_train, X_test, y_train, y_test = train_test_split(X, y, random_state=rng, test_size = 0.2)"
        },
        {
            "cell_type": "markdown",
            "metadata": {},
            "source": "## Feature scaling\n\nFeatures are scaled for classification using the *MinMaxScaler()* implemented in sklearn:"
        },
        {
            "cell_type": "code",
            "execution_count": 9,
            "metadata": {},
            "outputs": [],
            "source": "min_max_scaler = preprocessing.MinMaxScaler()\n\nX_train = min_max_scaler.fit_transform(X_train)\nX_test = min_max_scaler.transform(X_test)"
        },
        {
            "cell_type": "markdown",
            "metadata": {},
            "source": "## Classification\n\nClassification is run using three different algorithms:\n\n1. Linear Support Vector Machine (SVM) is used for computationally simple proof-of-concept prediction.\n2. XGBoost is ussed as a state-of-the-art algorithm for supervised machine learning.\n3. A neural network is used as state-of-the-art deep learning model for comparison with XGBoost and SVM algorithms.\n\nBoth XGBoost and the neural network were selected as they can model non-linear associations. This is likely to be important for complex text-based features that include combinations of different words and sentiment.\n\nAs **evaluation metric**, the primary evaluation metric of interest is the F1-score as it is more robust against imbalanced class data (as is the case here). However, the standard model accuracy is also provided as comparison.\n\n### Support vector classifier"
        },
        {
            "cell_type": "code",
            "execution_count": 10,
            "metadata": {},
            "outputs": [
                {
                    "data": {
                        "text/plain": "GridSearchCV(cv=5, estimator=SVC(),\n             param_grid={'C': [0.1, 1, 8, 16, 32], 'kernel': ('linear', 'rbf')})"
                    },
                    "execution_count": 10,
                    "metadata": {},
                    "output_type": "execute_result"
                }
            ],
            "source": "svc_parameters = {'kernel':('linear', 'rbf'), 'C':[0.1,1,8,16,32]}\nsvc = svm.SVC()\nclf_svm = GridSearchCV(svc, svc_parameters, cv=5)\nclf_svm.fit(X_train, y_train)"
        },
        {
            "cell_type": "code",
            "execution_count": 12,
            "metadata": {},
            "outputs": [
                {
                    "name": "stdout",
                    "output_type": "stream",
                    "text": "The accuracy for the test set is: 0.9523809523809523\nThe F1 score for the test set is: 0.9522578739430639\n"
                }
            ],
            "source": "y_pred = clf_svm.predict(X_test)\n\nprint(\"The accuracy for the test set is: \" + str(accuracy_score(y_test, y_pred)))\nprint(\"The F1 score for the test set is: \" + str(f1_score(y_test, y_pred, average = 'weighted')))"
        },
        {
            "cell_type": "markdown",
            "metadata": {},
            "source": "### XGBoost"
        },
        {
            "cell_type": "code",
            "execution_count": 13,
            "metadata": {},
            "outputs": [
                {
                    "data": {
                        "text/plain": "GridSearchCV(cv=5, estimator=GradientBoostingClassifier(random_state=0),\n             param_grid={'learning_rate': [0.01, 0.1, 0.2],\n                         'max_depth': [3, 5, 8],\n                         'max_features': ['log2', 'sqrt'],\n                         'min_samples_leaf': array([0.1, 0.3, 0.5]),\n                         'min_samples_split': array([0.1, 0.3, 0.5]),\n                         'n_estimators': [10], 'subsample': [0.5, 0.8, 1.0]})"
                    },
                    "execution_count": 13,
                    "metadata": {},
                    "output_type": "execute_result"
                }
            ],
            "source": "xgboost_parameters = {\n    \"learning_rate\": [0.01, 0.1, 0.2],\n    \"min_samples_split\": np.linspace(0.1, 0.5, 3),\n    \"min_samples_leaf\": np.linspace(0.1, 0.5, 3),\n    \"max_depth\":[3,5,8],\n    \"max_features\":[\"log2\",\"sqrt\"],\n    \"subsample\":[0.5, 0.8, 1.0],\n    \"n_estimators\":[10]\n    }\n\nxgboost = GradientBoostingClassifier(random_state=0)\nclf_xgboost = GridSearchCV(xgboost, xgboost_parameters, cv=5)\nclf_xgboost.fit(X_train, y_train)"
        },
        {
            "cell_type": "code",
            "execution_count": 14,
            "metadata": {},
            "outputs": [
                {
                    "name": "stdout",
                    "output_type": "stream",
                    "text": "The accuracy for the test set is: 0.7777777777777778\nThe F1 score for the test set is: 0.7724358974358974\n"
                }
            ],
            "source": "y_pred = clf_xgboost.predict(X_test)\n\nprint(\"The accuracy for the test set is: \" + str(accuracy_score(y_test, y_pred)))\nprint(\"The F1 score for the test set is: \" + str(f1_score(y_test, y_pred, average = 'weighted')))"
        },
        {
            "cell_type": "markdown",
            "metadata": {},
            "source": "### Neural network"
        },
        {
            "cell_type": "markdown",
            "metadata": {},
            "source": "One-hot encoded vectors are created for the newspaper outcome variable to align with *keras* format:"
        },
        {
            "cell_type": "code",
            "execution_count": 15,
            "metadata": {},
            "outputs": [],
            "source": "y_train_cat = pd.get_dummies(y_train)\ny_test_cat = pd.get_dummies(y_test)"
        },
        {
            "cell_type": "markdown",
            "metadata": {},
            "source": "To assess the F1-score for the Keras model, this metric needs to be defined manually as it is not implemented in *keras*. The functions are therefore defined as indicated on https://neptune.ai/blog/implementing-the-macro-f1-score-in-keras:"
        },
        {
            "cell_type": "code",
            "execution_count": 16,
            "metadata": {},
            "outputs": [],
            "source": "# F1 measures definition according to: F1 = 2 * (precision * recall) / (precision + recall)\ndef custom_f1(y_true, y_pred):    \n    def recall_m(y_true, y_pred):\n        TP = K.sum(K.round(K.clip(y_true * y_pred, 0, 1)))\n        Positives = K.sum(K.round(K.clip(y_true, 0, 1)))\n        \n        recall = TP / (Positives+K.epsilon())    \n        return recall \n    \n    \n    def precision_m(y_true, y_pred):\n        TP = K.sum(K.round(K.clip(y_true * y_pred, 0, 1)))\n        Pred_Positives = K.sum(K.round(K.clip(y_pred, 0, 1)))\n    \n        precision = TP / (Pred_Positives+K.epsilon())\n        return precision \n    \n    precision, recall = precision_m(y_true, y_pred), recall_m(y_true, y_pred)\n    \n    return 2*((precision*recall)/(precision+recall+K.epsilon()))"
        },
        {
            "cell_type": "markdown",
            "metadata": {},
            "source": "The neural network is built using three dense layers with relu activation function and a variable amount of 32-64 nodes. A dropout layer with 0.5 dropout is defined to enhance model generalisability:"
        },
        {
            "cell_type": "code",
            "execution_count": 17,
            "metadata": {},
            "outputs": [
                {
                    "name": "stdout",
                    "output_type": "stream",
                    "text": "Epoch 1/10\n63/63 [==============================] - 1s 8ms/step - loss: 0.6672 - custom_f1: 0.6241 - accuracy: 0.6469\nEpoch 2/10\n63/63 [==============================] - 0s 8ms/step - loss: 0.6482 - custom_f1: 0.6337 - accuracy: 0.6440\nEpoch 3/10\n63/63 [==============================] - 0s 7ms/step - loss: 0.6104 - custom_f1: 0.6761 - accuracy: 0.6773\nEpoch 4/10\n63/63 [==============================] - 0s 7ms/step - loss: 0.5787 - custom_f1: 0.7400 - accuracy: 0.7505\nEpoch 5/10\n63/63 [==============================] - 0s 7ms/step - loss: 0.4860 - custom_f1: 0.8042 - accuracy: 0.7990\nEpoch 6/10\n63/63 [==============================] - 0s 6ms/step - loss: 0.4623 - custom_f1: 0.8128 - accuracy: 0.8259\nEpoch 7/10\n63/63 [==============================] - 0s 7ms/step - loss: 0.4280 - custom_f1: 0.8478 - accuracy: 0.8472\nEpoch 8/10\n63/63 [==============================] - 0s 7ms/step - loss: 0.3324 - custom_f1: 0.8636 - accuracy: 0.8617\nEpoch 9/10\n63/63 [==============================] - 0s 7ms/step - loss: 0.2427 - custom_f1: 0.9068 - accuracy: 0.8995\nEpoch 10/10\n63/63 [==============================] - 0s 7ms/step - loss: 0.2465 - custom_f1: 0.9179 - accuracy: 0.9119\n"
                },
                {
                    "data": {
                        "text/plain": "<tensorflow.python.keras.callbacks.History at 0x7f7b22f52d60>"
                    },
                    "execution_count": 17,
                    "metadata": {},
                    "output_type": "execute_result"
                }
            ],
            "source": "model = keras.Sequential([\n    keras.layers.Dense(32, input_shape=(X_train.shape[1],), activation='relu'),\n    keras.layers.Dense(64, activation='relu'),\n    keras.layers.Dense(64, activation='relu'),\n    keras.layers.Dropout(0.5),\n    keras.layers.Dense(2, activation='sigmoid')])\n\nmodel.compile(optimizer='adam', \n              loss=keras.losses.BinaryCrossentropy(from_logits=True),\n              metrics=[custom_f1,'accuracy'])\n\nmodel.fit(X_train, y_train_cat, batch_size=4, epochs=10)"
        },
        {
            "cell_type": "markdown",
            "metadata": {},
            "source": "The model is evaluated on the test set:"
        },
        {
            "cell_type": "code",
            "execution_count": 18,
            "metadata": {},
            "outputs": [
                {
                    "name": "stdout",
                    "output_type": "stream",
                    "text": "2/2 [==============================] - 0s 3ms/step - loss: 0.2621 - custom_f1: 0.8569 - accuracy: 0.8571\n"
                },
                {
                    "data": {
                        "text/plain": "[0.2620910704135895, 0.8568547964096069, 0.8571428656578064]"
                    },
                    "execution_count": 18,
                    "metadata": {},
                    "output_type": "execute_result"
                }
            ],
            "source": "model.evaluate(X_test, y_test_cat)"
        },
        {
            "cell_type": "markdown",
            "metadata": {},
            "source": "## Conclusion\n\nClassification of newspaper title data shows that it is possible to classify SZ and Welt newspapers from title features alone with relatively high accuracy. For prediction using data across multiple days, best prediction is achieved using SVC (F1 score=*0.95*), followed by somewhat worse prediction using neural network classification (F1 score=*0.86*) and worst performance for the XGBoost classifier (F1 score=*0.77*)."
        },
        {
            "cell_type": "code",
            "execution_count": null,
            "metadata": {},
            "outputs": [],
            "source": ""
        }
    ],
    "metadata": {
        "kernelspec": {
            "display_name": "Python 3.8",
            "language": "python",
            "name": "python3"
        },
        "language_info": {
            "codemirror_mode": {
                "name": "ipython",
                "version": 3
            },
            "file_extension": ".py",
            "mimetype": "text/x-python",
            "name": "python",
            "nbconvert_exporter": "python",
            "pygments_lexer": "ipython3",
            "version": "3.8.10"
        }
    },
    "nbformat": 4,
    "nbformat_minor": 1
}