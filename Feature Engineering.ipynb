{
    "cells": [
        {
            "cell_type": "markdown",
            "metadata": {
                "collapsed": true
            },
            "source": "# Newspaper classification: Feature engineering\n\n## Setup"
        },
        {
            "cell_type": "markdown",
            "metadata": {},
            "source": "Necessary installs are made for text processing:"
        },
        {
            "cell_type": "code",
            "execution_count": 1,
            "metadata": {
                "scrolled": true
            },
            "outputs": [
                {
                    "name": "stdout",
                    "output_type": "stream",
                    "text": "Collecting spacy\n  Downloading spacy-3.1.1-cp38-cp38-manylinux_2_17_x86_64.manylinux2014_x86_64.whl (6.5 MB)\n\u001b[K     |\u2588\u2588\u2588\u2588\u2588\u2588\u2588\u2588\u2588\u2588\u2588\u2588\u2588\u2588\u2588\u2588\u2588\u2588\u2588\u2588\u2588\u2588\u2588\u2588\u2588\u2588\u2588\u2588\u2588\u2588\u2588\u2588| 6.5 MB 28.4 MB/s eta 0:00:01\n\u001b[?25hCollecting thinc<8.1.0,>=8.0.8\n  Downloading thinc-8.0.8-cp38-cp38-manylinux_2_17_x86_64.manylinux2014_x86_64.whl (629 kB)\n\u001b[K     |\u2588\u2588\u2588\u2588\u2588\u2588\u2588\u2588\u2588\u2588\u2588\u2588\u2588\u2588\u2588\u2588\u2588\u2588\u2588\u2588\u2588\u2588\u2588\u2588\u2588\u2588\u2588\u2588\u2588\u2588\u2588\u2588| 629 kB 31.2 MB/s eta 0:00:01\n\u001b[?25hCollecting typer<0.4.0,>=0.3.0\n  Downloading typer-0.3.2-py3-none-any.whl (21 kB)\nRequirement already satisfied: tqdm<5.0.0,>=4.38.0 in /opt/conda/envs/Python-3.8-main/lib/python3.8/site-packages (from spacy) (4.59.0)\nRequirement already satisfied: setuptools in /opt/conda/envs/Python-3.8-main/lib/python3.8/site-packages (from spacy) (52.0.0.post20210125)\nCollecting preshed<3.1.0,>=3.0.2\n  Downloading preshed-3.0.5-cp38-cp38-manylinux2014_x86_64.whl (130 kB)\n\u001b[K     |\u2588\u2588\u2588\u2588\u2588\u2588\u2588\u2588\u2588\u2588\u2588\u2588\u2588\u2588\u2588\u2588\u2588\u2588\u2588\u2588\u2588\u2588\u2588\u2588\u2588\u2588\u2588\u2588\u2588\u2588\u2588\u2588| 130 kB 85.8 MB/s eta 0:00:01\n\u001b[?25hCollecting wasabi<1.1.0,>=0.8.1\n  Downloading wasabi-0.8.2-py3-none-any.whl (23 kB)\nCollecting cymem<2.1.0,>=2.0.2\n  Downloading cymem-2.0.5-cp38-cp38-manylinux2014_x86_64.whl (35 kB)\nCollecting murmurhash<1.1.0,>=0.28.0\n  Downloading murmurhash-1.0.5-cp38-cp38-manylinux2014_x86_64.whl (20 kB)\nRequirement already satisfied: numpy>=1.15.0 in /opt/conda/envs/Python-3.8-main/lib/python3.8/site-packages (from spacy) (1.19.2)\nRequirement already satisfied: packaging>=20.0 in /opt/conda/envs/Python-3.8-main/lib/python3.8/site-packages (from spacy) (20.9)\nCollecting blis<0.8.0,>=0.4.0\n  Downloading blis-0.7.4-cp38-cp38-manylinux2014_x86_64.whl (9.8 MB)\n\u001b[K     |\u2588\u2588\u2588\u2588\u2588\u2588\u2588\u2588\u2588\u2588\u2588\u2588\u2588\u2588\u2588\u2588\u2588\u2588\u2588\u2588\u2588\u2588\u2588\u2588\u2588\u2588\u2588\u2588\u2588\u2588\u2588\u2588| 9.8 MB 71.5 MB/s eta 0:00:01\n\u001b[?25hCollecting pydantic!=1.8,!=1.8.1,<1.9.0,>=1.7.4\n  Downloading pydantic-1.8.2-cp38-cp38-manylinux2014_x86_64.whl (13.7 MB)\n\u001b[K     |\u2588\u2588\u2588\u2588\u2588\u2588\u2588\u2588\u2588\u2588\u2588\u2588\u2588\u2588\u2588\u2588\u2588\u2588\u2588\u2588\u2588\u2588\u2588\u2588\u2588\u2588\u2588\u2588\u2588\u2588\u2588\u2588| 13.7 MB 69.2 MB/s eta 0:00:01\n\u001b[?25hRequirement already satisfied: jinja2 in /opt/conda/envs/Python-3.8-main/lib/python3.8/site-packages (from spacy) (3.0.0)\nCollecting catalogue<2.1.0,>=2.0.4\n  Downloading catalogue-2.0.5-py3-none-any.whl (17 kB)\nRequirement already satisfied: requests<3.0.0,>=2.13.0 in /opt/conda/envs/Python-3.8-main/lib/python3.8/site-packages (from spacy) (2.25.1)\nCollecting spacy-legacy<3.1.0,>=3.0.7\n  Downloading spacy_legacy-3.0.8-py2.py3-none-any.whl (14 kB)\nCollecting srsly<3.0.0,>=2.4.1\n  Downloading srsly-2.4.1-cp38-cp38-manylinux2014_x86_64.whl (458 kB)\n\u001b[K     |\u2588\u2588\u2588\u2588\u2588\u2588\u2588\u2588\u2588\u2588\u2588\u2588\u2588\u2588\u2588\u2588\u2588\u2588\u2588\u2588\u2588\u2588\u2588\u2588\u2588\u2588\u2588\u2588\u2588\u2588\u2588\u2588| 458 kB 69.8 MB/s eta 0:00:01\n\u001b[?25hCollecting pathy>=0.3.5\n  Downloading pathy-0.6.0-py3-none-any.whl (42 kB)\n\u001b[K     |\u2588\u2588\u2588\u2588\u2588\u2588\u2588\u2588\u2588\u2588\u2588\u2588\u2588\u2588\u2588\u2588\u2588\u2588\u2588\u2588\u2588\u2588\u2588\u2588\u2588\u2588\u2588\u2588\u2588\u2588\u2588\u2588| 42 kB 3.3 MB/s  eta 0:00:01\n\u001b[?25hRequirement already satisfied: pyparsing>=2.0.2 in /opt/conda/envs/Python-3.8-main/lib/python3.8/site-packages (from packaging>=20.0->spacy) (2.4.7)\nRequirement already satisfied: smart-open<6.0.0,>=5.0.0 in /opt/conda/envs/Python-3.8-main/lib/python3.8/site-packages (from pathy>=0.3.5->spacy) (5.1.0)\nRequirement already satisfied: typing-extensions>=3.7.4.3 in /opt/conda/envs/Python-3.8-main/lib/python3.8/site-packages (from pydantic!=1.8,!=1.8.1,<1.9.0,>=1.7.4->spacy) (3.7.4.3)\nRequirement already satisfied: chardet<5,>=3.0.2 in /opt/conda/envs/Python-3.8-main/lib/python3.8/site-packages (from requests<3.0.0,>=2.13.0->spacy) (3.0.4)\nRequirement already satisfied: idna<3,>=2.5 in /opt/conda/envs/Python-3.8-main/lib/python3.8/site-packages (from requests<3.0.0,>=2.13.0->spacy) (2.8)\nRequirement already satisfied: certifi>=2017.4.17 in /opt/conda/envs/Python-3.8-main/lib/python3.8/site-packages (from requests<3.0.0,>=2.13.0->spacy) (2021.5.30)\nRequirement already satisfied: urllib3<1.27,>=1.21.1 in /opt/conda/envs/Python-3.8-main/lib/python3.8/site-packages (from requests<3.0.0,>=2.13.0->spacy) (1.26.6)\nRequirement already satisfied: click<7.2.0,>=7.1.1 in /opt/conda/envs/Python-3.8-main/lib/python3.8/site-packages (from typer<0.4.0,>=0.3.0->spacy) (7.1.2)\nRequirement already satisfied: MarkupSafe>=2.0.0rc2 in /opt/conda/envs/Python-3.8-main/lib/python3.8/site-packages (from jinja2->spacy) (2.0.1)\nInstalling collected packages: murmurhash, cymem, catalogue, wasabi, typer, srsly, pydantic, preshed, blis, thinc, spacy-legacy, pathy, spacy\nSuccessfully installed blis-0.7.4 catalogue-2.0.5 cymem-2.0.5 murmurhash-1.0.5 pathy-0.6.0 preshed-3.0.5 pydantic-1.8.2 spacy-3.1.1 spacy-legacy-3.0.8 srsly-2.4.1 thinc-8.0.8 typer-0.3.2 wasabi-0.8.2\nCollecting de-core-news-sm==3.1.0\n  Downloading https://github.com/explosion/spacy-models/releases/download/de_core_news_sm-3.1.0/de_core_news_sm-3.1.0-py3-none-any.whl (18.8 MB)\n\u001b[K     |\u2588\u2588\u2588\u2588\u2588\u2588\u2588\u2588\u2588\u2588\u2588\u2588\u2588\u2588\u2588\u2588\u2588\u2588\u2588\u2588\u2588\u2588\u2588\u2588\u2588\u2588\u2588\u2588\u2588\u2588\u2588\u2588| 18.8 MB 11.6 MB/s eta 0:00:01\n\u001b[?25hRequirement already satisfied: spacy<3.2.0,>=3.1.0 in /opt/conda/envs/Python-3.8-main/lib/python3.8/site-packages (from de-core-news-sm==3.1.0) (3.1.1)\nRequirement already satisfied: murmurhash<1.1.0,>=0.28.0 in /opt/conda/envs/Python-3.8-main/lib/python3.8/site-packages (from spacy<3.2.0,>=3.1.0->de-core-news-sm==3.1.0) (1.0.5)\nRequirement already satisfied: preshed<3.1.0,>=3.0.2 in /opt/conda/envs/Python-3.8-main/lib/python3.8/site-packages (from spacy<3.2.0,>=3.1.0->de-core-news-sm==3.1.0) (3.0.5)\nRequirement already satisfied: numpy>=1.15.0 in /opt/conda/envs/Python-3.8-main/lib/python3.8/site-packages (from spacy<3.2.0,>=3.1.0->de-core-news-sm==3.1.0) (1.19.2)\nRequirement already satisfied: packaging>=20.0 in /opt/conda/envs/Python-3.8-main/lib/python3.8/site-packages (from spacy<3.2.0,>=3.1.0->de-core-news-sm==3.1.0) (20.9)\nRequirement already satisfied: pathy>=0.3.5 in /opt/conda/envs/Python-3.8-main/lib/python3.8/site-packages (from spacy<3.2.0,>=3.1.0->de-core-news-sm==3.1.0) (0.6.0)\nRequirement already satisfied: setuptools in /opt/conda/envs/Python-3.8-main/lib/python3.8/site-packages (from spacy<3.2.0,>=3.1.0->de-core-news-sm==3.1.0) (52.0.0.post20210125)\nRequirement already satisfied: thinc<8.1.0,>=8.0.8 in /opt/conda/envs/Python-3.8-main/lib/python3.8/site-packages (from spacy<3.2.0,>=3.1.0->de-core-news-sm==3.1.0) (8.0.8)\nRequirement already satisfied: cymem<2.1.0,>=2.0.2 in /opt/conda/envs/Python-3.8-main/lib/python3.8/site-packages (from spacy<3.2.0,>=3.1.0->de-core-news-sm==3.1.0) (2.0.5)\nRequirement already satisfied: spacy-legacy<3.1.0,>=3.0.7 in /opt/conda/envs/Python-3.8-main/lib/python3.8/site-packages (from spacy<3.2.0,>=3.1.0->de-core-news-sm==3.1.0) (3.0.8)\nRequirement already satisfied: catalogue<2.1.0,>=2.0.4 in /opt/conda/envs/Python-3.8-main/lib/python3.8/site-packages (from spacy<3.2.0,>=3.1.0->de-core-news-sm==3.1.0) (2.0.5)\nRequirement already satisfied: srsly<3.0.0,>=2.4.1 in /opt/conda/envs/Python-3.8-main/lib/python3.8/site-packages (from spacy<3.2.0,>=3.1.0->de-core-news-sm==3.1.0) (2.4.1)\nRequirement already satisfied: pydantic!=1.8,!=1.8.1,<1.9.0,>=1.7.4 in /opt/conda/envs/Python-3.8-main/lib/python3.8/site-packages (from spacy<3.2.0,>=3.1.0->de-core-news-sm==3.1.0) (1.8.2)\nRequirement already satisfied: jinja2 in /opt/conda/envs/Python-3.8-main/lib/python3.8/site-packages (from spacy<3.2.0,>=3.1.0->de-core-news-sm==3.1.0) (3.0.0)\nRequirement already satisfied: tqdm<5.0.0,>=4.38.0 in /opt/conda/envs/Python-3.8-main/lib/python3.8/site-packages (from spacy<3.2.0,>=3.1.0->de-core-news-sm==3.1.0) (4.59.0)\nRequirement already satisfied: blis<0.8.0,>=0.4.0 in /opt/conda/envs/Python-3.8-main/lib/python3.8/site-packages (from spacy<3.2.0,>=3.1.0->de-core-news-sm==3.1.0) (0.7.4)\nRequirement already satisfied: requests<3.0.0,>=2.13.0 in /opt/conda/envs/Python-3.8-main/lib/python3.8/site-packages (from spacy<3.2.0,>=3.1.0->de-core-news-sm==3.1.0) (2.25.1)\nRequirement already satisfied: typer<0.4.0,>=0.3.0 in /opt/conda/envs/Python-3.8-main/lib/python3.8/site-packages (from spacy<3.2.0,>=3.1.0->de-core-news-sm==3.1.0) (0.3.2)\nRequirement already satisfied: wasabi<1.1.0,>=0.8.1 in /opt/conda/envs/Python-3.8-main/lib/python3.8/site-packages (from spacy<3.2.0,>=3.1.0->de-core-news-sm==3.1.0) (0.8.2)\nRequirement already satisfied: pyparsing>=2.0.2 in /opt/conda/envs/Python-3.8-main/lib/python3.8/site-packages (from packaging>=20.0->spacy<3.2.0,>=3.1.0->de-core-news-sm==3.1.0) (2.4.7)\nRequirement already satisfied: smart-open<6.0.0,>=5.0.0 in /opt/conda/envs/Python-3.8-main/lib/python3.8/site-packages (from pathy>=0.3.5->spacy<3.2.0,>=3.1.0->de-core-news-sm==3.1.0) (5.1.0)\nRequirement already satisfied: typing-extensions>=3.7.4.3 in /opt/conda/envs/Python-3.8-main/lib/python3.8/site-packages (from pydantic!=1.8,!=1.8.1,<1.9.0,>=1.7.4->spacy<3.2.0,>=3.1.0->de-core-news-sm==3.1.0) (3.7.4.3)\nRequirement already satisfied: certifi>=2017.4.17 in /opt/conda/envs/Python-3.8-main/lib/python3.8/site-packages (from requests<3.0.0,>=2.13.0->spacy<3.2.0,>=3.1.0->de-core-news-sm==3.1.0) (2021.5.30)\nRequirement already satisfied: idna<3,>=2.5 in /opt/conda/envs/Python-3.8-main/lib/python3.8/site-packages (from requests<3.0.0,>=2.13.0->spacy<3.2.0,>=3.1.0->de-core-news-sm==3.1.0) (2.8)\nRequirement already satisfied: urllib3<1.27,>=1.21.1 in /opt/conda/envs/Python-3.8-main/lib/python3.8/site-packages (from requests<3.0.0,>=2.13.0->spacy<3.2.0,>=3.1.0->de-core-news-sm==3.1.0) (1.26.6)\nRequirement already satisfied: chardet<5,>=3.0.2 in /opt/conda/envs/Python-3.8-main/lib/python3.8/site-packages (from requests<3.0.0,>=2.13.0->spacy<3.2.0,>=3.1.0->de-core-news-sm==3.1.0) (3.0.4)\nRequirement already satisfied: click<7.2.0,>=7.1.1 in /opt/conda/envs/Python-3.8-main/lib/python3.8/site-packages (from typer<0.4.0,>=0.3.0->spacy<3.2.0,>=3.1.0->de-core-news-sm==3.1.0) (7.1.2)\nRequirement already satisfied: MarkupSafe>=2.0.0rc2 in /opt/conda/envs/Python-3.8-main/lib/python3.8/site-packages (from jinja2->spacy<3.2.0,>=3.1.0->de-core-news-sm==3.1.0) (2.0.1)\nInstalling collected packages: de-core-news-sm\nSuccessfully installed de-core-news-sm-3.1.0\n\u001b[38;5;2m\u2714 Download and installation successful\u001b[0m\nYou can now load the package via spacy.load('de_core_news_sm')\nCollecting textblob-de\n  Downloading textblob_de-0.4.3-py2.py3-none-any.whl (468 kB)\n\u001b[K     |\u2588\u2588\u2588\u2588\u2588\u2588\u2588\u2588\u2588\u2588\u2588\u2588\u2588\u2588\u2588\u2588\u2588\u2588\u2588\u2588\u2588\u2588\u2588\u2588\u2588\u2588\u2588\u2588\u2588\u2588\u2588\u2588| 468 kB 18.5 MB/s eta 0:00:01\n\u001b[?25hCollecting textblob>=0.9.0\n  Downloading textblob-0.15.3-py2.py3-none-any.whl (636 kB)\n\u001b[K     |\u2588\u2588\u2588\u2588\u2588\u2588\u2588\u2588\u2588\u2588\u2588\u2588\u2588\u2588\u2588\u2588\u2588\u2588\u2588\u2588\u2588\u2588\u2588\u2588\u2588\u2588\u2588\u2588\u2588\u2588\u2588\u2588| 636 kB 72.8 MB/s eta 0:00:01\n\u001b[?25hRequirement already satisfied: nltk>=3.1 in /opt/conda/envs/Python-3.8-main/lib/python3.8/site-packages (from textblob>=0.9.0->textblob-de) (3.6.2)\nRequirement already satisfied: tqdm in /opt/conda/envs/Python-3.8-main/lib/python3.8/site-packages (from nltk>=3.1->textblob>=0.9.0->textblob-de) (4.59.0)\nRequirement already satisfied: regex in /opt/conda/envs/Python-3.8-main/lib/python3.8/site-packages (from nltk>=3.1->textblob>=0.9.0->textblob-de) (2021.4.4)\nRequirement already satisfied: click in /opt/conda/envs/Python-3.8-main/lib/python3.8/site-packages (from nltk>=3.1->textblob>=0.9.0->textblob-de) (7.1.2)\nRequirement already satisfied: joblib in /opt/conda/envs/Python-3.8-main/lib/python3.8/site-packages (from nltk>=3.1->textblob>=0.9.0->textblob-de) (0.17.0)\nInstalling collected packages: textblob, textblob-de\nSuccessfully installed textblob-0.15.3 textblob-de-0.4.3\n"
                }
            ],
            "source": "!pip install spacy\n!python -m spacy download de_core_news_sm\n!pip install -U textblob-de"
        },
        {
            "cell_type": "markdown",
            "metadata": {},
            "source": "Libraries are imported:"
        },
        {
            "cell_type": "code",
            "execution_count": 2,
            "metadata": {},
            "outputs": [],
            "source": "import pandas as pd\nimport numpy as np\nfrom project_lib import Project\n\nimport spacy\nfrom textblob_de import TextBlobDE\nimport nltk\nfrom sklearn import preprocessing\n\nimport matplotlib.pyplot as plt\nimport seaborn as sns"
        },
        {
            "cell_type": "markdown",
            "metadata": {},
            "source": "Data is loaded:"
        },
        {
            "cell_type": "code",
            "execution_count": 3,
            "metadata": {},
            "outputs": [],
            "source": "# The code was removed by Watson Studio for sharing."
        },
        {
            "cell_type": "code",
            "execution_count": 4,
            "metadata": {},
            "outputs": [],
            "source": "project = Project(project_id = project_id, project_access_token = project_token)"
        },
        {
            "cell_type": "code",
            "execution_count": 5,
            "metadata": {},
            "outputs": [],
            "source": "df_file = project.get_file(\"Newspaper_Data.csv\")\ndf_file.seek(0)\ndf = pd.read_csv(df_file)"
        },
        {
            "cell_type": "markdown",
            "metadata": {},
            "source": "This is the data:"
        },
        {
            "cell_type": "code",
            "execution_count": 6,
            "metadata": {},
            "outputs": [
                {
                    "data": {
                        "text/html": "<div>\n<style scoped>\n    .dataframe tbody tr th:only-of-type {\n        vertical-align: middle;\n    }\n\n    .dataframe tbody tr th {\n        vertical-align: top;\n    }\n\n    .dataframe thead th {\n        text-align: right;\n    }\n</style>\n<table border=\"1\" class=\"dataframe\">\n  <thead>\n    <tr style=\"text-align: right;\">\n      <th></th>\n      <th>Title</th>\n      <th>Newspaper</th>\n      <th>DateTime</th>\n    </tr>\n  </thead>\n  <tbody>\n    <tr>\n      <th>0</th>\n      <td>Taliban versprechen \"Amnestie\" - und werben f\u00fc...</td>\n      <td>SZ</td>\n      <td>2021-08-17 10:00:51.109716</td>\n    </tr>\n    <tr>\n      <th>1</th>\n      <td>Frau tot aus dem Wasser geborgen</td>\n      <td>SZ</td>\n      <td>2021-08-17 10:00:51.109716</td>\n    </tr>\n    <tr>\n      <th>2</th>\n      <td>Wenn ein einzelner Corona-Fall zum Lockdown f\u00fchrt</td>\n      <td>SZ</td>\n      <td>2021-08-17 10:00:51.109716</td>\n    </tr>\n    <tr>\n      <th>3</th>\n      <td>Mit diesen Argumenten \u00fcberzeugen Sie Impfskept...</td>\n      <td>SZ</td>\n      <td>2021-08-17 10:00:51.109716</td>\n    </tr>\n    <tr>\n      <th>4</th>\n      <td>Vier Silben n\u00e4hren die Titelhoffnungen</td>\n      <td>SZ</td>\n      <td>2021-08-17 10:00:51.109716</td>\n    </tr>\n  </tbody>\n</table>\n</div>",
                        "text/plain": "                                               Title Newspaper  \\\n0  Taliban versprechen \"Amnestie\" - und werben f\u00fc...        SZ   \n1                   Frau tot aus dem Wasser geborgen        SZ   \n2  Wenn ein einzelner Corona-Fall zum Lockdown f\u00fchrt        SZ   \n3  Mit diesen Argumenten \u00fcberzeugen Sie Impfskept...        SZ   \n4             Vier Silben n\u00e4hren die Titelhoffnungen        SZ   \n\n                     DateTime  \n0  2021-08-17 10:00:51.109716  \n1  2021-08-17 10:00:51.109716  \n2  2021-08-17 10:00:51.109716  \n3  2021-08-17 10:00:51.109716  \n4  2021-08-17 10:00:51.109716  "
                    },
                    "execution_count": 6,
                    "metadata": {},
                    "output_type": "execute_result"
                }
            ],
            "source": "df.head()"
        },
        {
            "cell_type": "markdown",
            "metadata": {},
            "source": "It has the following shape:"
        },
        {
            "cell_type": "code",
            "execution_count": 7,
            "metadata": {},
            "outputs": [
                {
                    "data": {
                        "text/plain": "(313, 3)"
                    },
                    "execution_count": 7,
                    "metadata": {},
                    "output_type": "execute_result"
                }
            ],
            "source": "df.shape"
        },
        {
            "cell_type": "markdown",
            "metadata": {},
            "source": "## Word mapping\n\nWords are mapped using the spacy library:"
        },
        {
            "cell_type": "code",
            "execution_count": 8,
            "metadata": {},
            "outputs": [],
            "source": "nlp = spacy.load(\"de_core_news_sm\")\n\ndocs = [nlp(text) for text in df['Title']]\n\ntitle_vectors = [x.vector for x in docs]\nnlp_vector_length = title_vectors[0].size\n\ndf_title_vectors = pd.DataFrame(title_vectors, \n                                columns = ['title_nlp_' + str(x) for x in range(nlp_vector_length)])\n\ndf = pd.concat([df.reset_index(drop=True), df_title_vectors], axis=1)"
        },
        {
            "cell_type": "markdown",
            "metadata": {},
            "source": "The new feature columns look as follows:"
        },
        {
            "cell_type": "code",
            "execution_count": 9,
            "metadata": {},
            "outputs": [
                {
                    "data": {
                        "text/html": "<div>\n<style scoped>\n    .dataframe tbody tr th:only-of-type {\n        vertical-align: middle;\n    }\n\n    .dataframe tbody tr th {\n        vertical-align: top;\n    }\n\n    .dataframe thead th {\n        text-align: right;\n    }\n</style>\n<table border=\"1\" class=\"dataframe\">\n  <thead>\n    <tr style=\"text-align: right;\">\n      <th></th>\n      <th>title_nlp_0</th>\n      <th>title_nlp_1</th>\n      <th>title_nlp_2</th>\n      <th>title_nlp_3</th>\n      <th>title_nlp_4</th>\n      <th>title_nlp_5</th>\n      <th>title_nlp_6</th>\n      <th>title_nlp_7</th>\n      <th>title_nlp_8</th>\n      <th>title_nlp_9</th>\n      <th>...</th>\n      <th>title_nlp_86</th>\n      <th>title_nlp_87</th>\n      <th>title_nlp_88</th>\n      <th>title_nlp_89</th>\n      <th>title_nlp_90</th>\n      <th>title_nlp_91</th>\n      <th>title_nlp_92</th>\n      <th>title_nlp_93</th>\n      <th>title_nlp_94</th>\n      <th>title_nlp_95</th>\n    </tr>\n  </thead>\n  <tbody>\n    <tr>\n      <th>0</th>\n      <td>1.056343</td>\n      <td>-0.331942</td>\n      <td>0.377576</td>\n      <td>-0.755563</td>\n      <td>1.121652</td>\n      <td>1.051834</td>\n      <td>-0.692204</td>\n      <td>0.981793</td>\n      <td>0.019544</td>\n      <td>-0.850741</td>\n      <td>...</td>\n      <td>0.716339</td>\n      <td>0.459867</td>\n      <td>0.928529</td>\n      <td>-1.462323</td>\n      <td>-0.245735</td>\n      <td>-0.145574</td>\n      <td>0.003700</td>\n      <td>-0.349982</td>\n      <td>-0.764239</td>\n      <td>-0.042902</td>\n    </tr>\n    <tr>\n      <th>1</th>\n      <td>0.482346</td>\n      <td>-1.360563</td>\n      <td>2.204261</td>\n      <td>-0.980908</td>\n      <td>0.938673</td>\n      <td>2.182759</td>\n      <td>0.753072</td>\n      <td>1.323434</td>\n      <td>0.003371</td>\n      <td>0.081252</td>\n      <td>...</td>\n      <td>0.477683</td>\n      <td>1.201029</td>\n      <td>-0.721859</td>\n      <td>-1.177253</td>\n      <td>0.305149</td>\n      <td>-1.245529</td>\n      <td>-0.426957</td>\n      <td>-0.187530</td>\n      <td>0.610376</td>\n      <td>-0.090306</td>\n    </tr>\n    <tr>\n      <th>2</th>\n      <td>0.719709</td>\n      <td>0.718557</td>\n      <td>1.878793</td>\n      <td>0.517712</td>\n      <td>0.685538</td>\n      <td>1.683592</td>\n      <td>0.760514</td>\n      <td>1.199788</td>\n      <td>-0.524071</td>\n      <td>0.422914</td>\n      <td>...</td>\n      <td>-2.042490</td>\n      <td>-0.952892</td>\n      <td>1.310398</td>\n      <td>-0.633470</td>\n      <td>1.561836</td>\n      <td>1.376056</td>\n      <td>0.862674</td>\n      <td>-1.260844</td>\n      <td>-0.054087</td>\n      <td>-0.305862</td>\n    </tr>\n    <tr>\n      <th>3</th>\n      <td>1.173115</td>\n      <td>0.131595</td>\n      <td>-1.171353</td>\n      <td>-0.516909</td>\n      <td>-0.515251</td>\n      <td>1.939519</td>\n      <td>1.228320</td>\n      <td>1.602004</td>\n      <td>-1.056640</td>\n      <td>-1.143206</td>\n      <td>...</td>\n      <td>0.106650</td>\n      <td>1.435582</td>\n      <td>-0.659123</td>\n      <td>1.024564</td>\n      <td>-0.468957</td>\n      <td>-1.644382</td>\n      <td>-1.046088</td>\n      <td>-1.202309</td>\n      <td>0.199285</td>\n      <td>1.258943</td>\n    </tr>\n    <tr>\n      <th>4</th>\n      <td>1.485402</td>\n      <td>-0.082825</td>\n      <td>0.894071</td>\n      <td>0.251246</td>\n      <td>-0.263389</td>\n      <td>0.542428</td>\n      <td>1.021385</td>\n      <td>0.517868</td>\n      <td>-1.834415</td>\n      <td>-1.062886</td>\n      <td>...</td>\n      <td>0.341137</td>\n      <td>-0.160645</td>\n      <td>-1.534141</td>\n      <td>-1.733571</td>\n      <td>-0.673529</td>\n      <td>-0.847832</td>\n      <td>-0.782896</td>\n      <td>-1.793984</td>\n      <td>2.312975</td>\n      <td>-0.406768</td>\n    </tr>\n  </tbody>\n</table>\n<p>5 rows \u00d7 96 columns</p>\n</div>",
                        "text/plain": "   title_nlp_0  title_nlp_1  title_nlp_2  title_nlp_3  title_nlp_4  \\\n0     1.056343    -0.331942     0.377576    -0.755563     1.121652   \n1     0.482346    -1.360563     2.204261    -0.980908     0.938673   \n2     0.719709     0.718557     1.878793     0.517712     0.685538   \n3     1.173115     0.131595    -1.171353    -0.516909    -0.515251   \n4     1.485402    -0.082825     0.894071     0.251246    -0.263389   \n\n   title_nlp_5  title_nlp_6  title_nlp_7  title_nlp_8  title_nlp_9  ...  \\\n0     1.051834    -0.692204     0.981793     0.019544    -0.850741  ...   \n1     2.182759     0.753072     1.323434     0.003371     0.081252  ...   \n2     1.683592     0.760514     1.199788    -0.524071     0.422914  ...   \n3     1.939519     1.228320     1.602004    -1.056640    -1.143206  ...   \n4     0.542428     1.021385     0.517868    -1.834415    -1.062886  ...   \n\n   title_nlp_86  title_nlp_87  title_nlp_88  title_nlp_89  title_nlp_90  \\\n0      0.716339      0.459867      0.928529     -1.462323     -0.245735   \n1      0.477683      1.201029     -0.721859     -1.177253      0.305149   \n2     -2.042490     -0.952892      1.310398     -0.633470      1.561836   \n3      0.106650      1.435582     -0.659123      1.024564     -0.468957   \n4      0.341137     -0.160645     -1.534141     -1.733571     -0.673529   \n\n   title_nlp_91  title_nlp_92  title_nlp_93  title_nlp_94  title_nlp_95  \n0     -0.145574      0.003700     -0.349982     -0.764239     -0.042902  \n1     -1.245529     -0.426957     -0.187530      0.610376     -0.090306  \n2      1.376056      0.862674     -1.260844     -0.054087     -0.305862  \n3     -1.644382     -1.046088     -1.202309      0.199285      1.258943  \n4     -0.847832     -0.782896     -1.793984      2.312975     -0.406768  \n\n[5 rows x 96 columns]"
                    },
                    "execution_count": 9,
                    "metadata": {},
                    "output_type": "execute_result"
                }
            ],
            "source": "df[['title_nlp_' + str(x) for x in range(nlp_vector_length)]].head()"
        },
        {
            "cell_type": "code",
            "execution_count": 10,
            "metadata": {},
            "outputs": [
                {
                    "data": {
                        "text/html": "<div>\n<style scoped>\n    .dataframe tbody tr th:only-of-type {\n        vertical-align: middle;\n    }\n\n    .dataframe tbody tr th {\n        vertical-align: top;\n    }\n\n    .dataframe thead th {\n        text-align: right;\n    }\n</style>\n<table border=\"1\" class=\"dataframe\">\n  <thead>\n    <tr style=\"text-align: right;\">\n      <th></th>\n      <th>title_nlp_0</th>\n      <th>title_nlp_1</th>\n      <th>title_nlp_2</th>\n      <th>title_nlp_3</th>\n      <th>title_nlp_4</th>\n      <th>title_nlp_5</th>\n      <th>title_nlp_6</th>\n      <th>title_nlp_7</th>\n      <th>title_nlp_8</th>\n      <th>title_nlp_9</th>\n      <th>...</th>\n      <th>title_nlp_86</th>\n      <th>title_nlp_87</th>\n      <th>title_nlp_88</th>\n      <th>title_nlp_89</th>\n      <th>title_nlp_90</th>\n      <th>title_nlp_91</th>\n      <th>title_nlp_92</th>\n      <th>title_nlp_93</th>\n      <th>title_nlp_94</th>\n      <th>title_nlp_95</th>\n    </tr>\n  </thead>\n  <tbody>\n    <tr>\n      <th>count</th>\n      <td>313.000000</td>\n      <td>313.000000</td>\n      <td>313.000000</td>\n      <td>313.000000</td>\n      <td>313.000000</td>\n      <td>313.000000</td>\n      <td>313.000000</td>\n      <td>313.000000</td>\n      <td>313.000000</td>\n      <td>313.000000</td>\n      <td>...</td>\n      <td>313.000000</td>\n      <td>313.000000</td>\n      <td>313.000000</td>\n      <td>313.000000</td>\n      <td>313.000000</td>\n      <td>313.000000</td>\n      <td>313.000000</td>\n      <td>313.000000</td>\n      <td>313.000000</td>\n      <td>313.000000</td>\n    </tr>\n    <tr>\n      <th>mean</th>\n      <td>0.722186</td>\n      <td>0.191242</td>\n      <td>0.788787</td>\n      <td>-0.396232</td>\n      <td>0.446398</td>\n      <td>0.323293</td>\n      <td>-0.265774</td>\n      <td>1.001216</td>\n      <td>0.254026</td>\n      <td>-0.047084</td>\n      <td>...</td>\n      <td>-0.097288</td>\n      <td>-0.389813</td>\n      <td>0.115425</td>\n      <td>-0.512728</td>\n      <td>-0.389953</td>\n      <td>0.112777</td>\n      <td>0.269656</td>\n      <td>-0.635995</td>\n      <td>0.434154</td>\n      <td>-0.091176</td>\n    </tr>\n    <tr>\n      <th>std</th>\n      <td>0.820370</td>\n      <td>1.175197</td>\n      <td>0.822576</td>\n      <td>0.934083</td>\n      <td>1.080790</td>\n      <td>0.923352</td>\n      <td>0.783460</td>\n      <td>0.656202</td>\n      <td>0.878961</td>\n      <td>0.855713</td>\n      <td>...</td>\n      <td>0.746337</td>\n      <td>0.950711</td>\n      <td>0.913873</td>\n      <td>0.938796</td>\n      <td>0.772394</td>\n      <td>1.063577</td>\n      <td>0.822465</td>\n      <td>0.773188</td>\n      <td>0.767060</td>\n      <td>0.881764</td>\n    </tr>\n    <tr>\n      <th>min</th>\n      <td>-1.666177</td>\n      <td>-4.218761</td>\n      <td>-2.030822</td>\n      <td>-2.576029</td>\n      <td>-2.974498</td>\n      <td>-2.185191</td>\n      <td>-2.308221</td>\n      <td>-0.413571</td>\n      <td>-2.123183</td>\n      <td>-3.325447</td>\n      <td>...</td>\n      <td>-2.789074</td>\n      <td>-3.329174</td>\n      <td>-3.011971</td>\n      <td>-2.732933</td>\n      <td>-2.611873</td>\n      <td>-3.436779</td>\n      <td>-2.836069</td>\n      <td>-3.852253</td>\n      <td>-1.771328</td>\n      <td>-2.981324</td>\n    </tr>\n    <tr>\n      <th>25%</th>\n      <td>0.170814</td>\n      <td>-0.596480</td>\n      <td>0.264386</td>\n      <td>-0.994691</td>\n      <td>-0.258450</td>\n      <td>-0.293719</td>\n      <td>-0.749278</td>\n      <td>0.546386</td>\n      <td>-0.323116</td>\n      <td>-0.618945</td>\n      <td>...</td>\n      <td>-0.541426</td>\n      <td>-1.047594</td>\n      <td>-0.495237</td>\n      <td>-1.109140</td>\n      <td>-0.823366</td>\n      <td>-0.559520</td>\n      <td>-0.195143</td>\n      <td>-1.202309</td>\n      <td>-0.100206</td>\n      <td>-0.722555</td>\n    </tr>\n    <tr>\n      <th>50%</th>\n      <td>0.689593</td>\n      <td>0.226625</td>\n      <td>0.706934</td>\n      <td>-0.478840</td>\n      <td>0.413414</td>\n      <td>0.346982</td>\n      <td>-0.327375</td>\n      <td>0.847778</td>\n      <td>0.228876</td>\n      <td>-0.099892</td>\n      <td>...</td>\n      <td>-0.082012</td>\n      <td>-0.416557</td>\n      <td>0.136294</td>\n      <td>-0.622822</td>\n      <td>-0.393931</td>\n      <td>0.123897</td>\n      <td>0.259764</td>\n      <td>-0.598616</td>\n      <td>0.351275</td>\n      <td>-0.088211</td>\n    </tr>\n    <tr>\n      <th>75%</th>\n      <td>1.190672</td>\n      <td>0.859978</td>\n      <td>1.257738</td>\n      <td>0.129075</td>\n      <td>1.066311</td>\n      <td>0.960143</td>\n      <td>0.155133</td>\n      <td>1.323434</td>\n      <td>0.807690</td>\n      <td>0.457929</td>\n      <td>...</td>\n      <td>0.395678</td>\n      <td>0.196873</td>\n      <td>0.707451</td>\n      <td>0.019745</td>\n      <td>0.128415</td>\n      <td>0.780642</td>\n      <td>0.826655</td>\n      <td>-0.084231</td>\n      <td>0.985538</td>\n      <td>0.518165</td>\n    </tr>\n    <tr>\n      <th>max</th>\n      <td>3.142897</td>\n      <td>3.991287</td>\n      <td>3.448956</td>\n      <td>2.987796</td>\n      <td>4.919607</td>\n      <td>3.067809</td>\n      <td>2.949749</td>\n      <td>3.752843</td>\n      <td>2.826041</td>\n      <td>2.531121</td>\n      <td>...</td>\n      <td>2.190081</td>\n      <td>2.906531</td>\n      <td>2.546154</td>\n      <td>2.770215</td>\n      <td>2.223184</td>\n      <td>3.847835</td>\n      <td>2.670436</td>\n      <td>1.257196</td>\n      <td>3.596819</td>\n      <td>2.631299</td>\n    </tr>\n  </tbody>\n</table>\n<p>8 rows \u00d7 96 columns</p>\n</div>",
                        "text/plain": "       title_nlp_0  title_nlp_1  title_nlp_2  title_nlp_3  title_nlp_4  \\\ncount   313.000000   313.000000   313.000000   313.000000   313.000000   \nmean      0.722186     0.191242     0.788787    -0.396232     0.446398   \nstd       0.820370     1.175197     0.822576     0.934083     1.080790   \nmin      -1.666177    -4.218761    -2.030822    -2.576029    -2.974498   \n25%       0.170814    -0.596480     0.264386    -0.994691    -0.258450   \n50%       0.689593     0.226625     0.706934    -0.478840     0.413414   \n75%       1.190672     0.859978     1.257738     0.129075     1.066311   \nmax       3.142897     3.991287     3.448956     2.987796     4.919607   \n\n       title_nlp_5  title_nlp_6  title_nlp_7  title_nlp_8  title_nlp_9  ...  \\\ncount   313.000000   313.000000   313.000000   313.000000   313.000000  ...   \nmean      0.323293    -0.265774     1.001216     0.254026    -0.047084  ...   \nstd       0.923352     0.783460     0.656202     0.878961     0.855713  ...   \nmin      -2.185191    -2.308221    -0.413571    -2.123183    -3.325447  ...   \n25%      -0.293719    -0.749278     0.546386    -0.323116    -0.618945  ...   \n50%       0.346982    -0.327375     0.847778     0.228876    -0.099892  ...   \n75%       0.960143     0.155133     1.323434     0.807690     0.457929  ...   \nmax       3.067809     2.949749     3.752843     2.826041     2.531121  ...   \n\n       title_nlp_86  title_nlp_87  title_nlp_88  title_nlp_89  title_nlp_90  \\\ncount    313.000000    313.000000    313.000000    313.000000    313.000000   \nmean      -0.097288     -0.389813      0.115425     -0.512728     -0.389953   \nstd        0.746337      0.950711      0.913873      0.938796      0.772394   \nmin       -2.789074     -3.329174     -3.011971     -2.732933     -2.611873   \n25%       -0.541426     -1.047594     -0.495237     -1.109140     -0.823366   \n50%       -0.082012     -0.416557      0.136294     -0.622822     -0.393931   \n75%        0.395678      0.196873      0.707451      0.019745      0.128415   \nmax        2.190081      2.906531      2.546154      2.770215      2.223184   \n\n       title_nlp_91  title_nlp_92  title_nlp_93  title_nlp_94  title_nlp_95  \ncount    313.000000    313.000000    313.000000    313.000000    313.000000  \nmean       0.112777      0.269656     -0.635995      0.434154     -0.091176  \nstd        1.063577      0.822465      0.773188      0.767060      0.881764  \nmin       -3.436779     -2.836069     -3.852253     -1.771328     -2.981324  \n25%       -0.559520     -0.195143     -1.202309     -0.100206     -0.722555  \n50%        0.123897      0.259764     -0.598616      0.351275     -0.088211  \n75%        0.780642      0.826655     -0.084231      0.985538      0.518165  \nmax        3.847835      2.670436      1.257196      3.596819      2.631299  \n\n[8 rows x 96 columns]"
                    },
                    "execution_count": 10,
                    "metadata": {},
                    "output_type": "execute_result"
                }
            ],
            "source": "df[['title_nlp_' + str(x) for x in range(nlp_vector_length)]].describe()"
        },
        {
            "cell_type": "markdown",
            "metadata": {},
            "source": "## Sentiment mapping\n\nSentiment is mapped using the *textBlobDE* library:"
        },
        {
            "cell_type": "code",
            "execution_count": 11,
            "metadata": {},
            "outputs": [
                {
                    "name": "stderr",
                    "output_type": "stream",
                    "text": "[nltk_data] Downloading package punkt to /home/wsuser/nltk_data...\n[nltk_data]   Unzipping tokenizers/punkt.zip.\n"
                },
                {
                    "data": {
                        "text/plain": "True"
                    },
                    "execution_count": 11,
                    "metadata": {},
                    "output_type": "execute_result"
                }
            ],
            "source": "nltk.download('punkt')"
        },
        {
            "cell_type": "code",
            "execution_count": 12,
            "metadata": {},
            "outputs": [],
            "source": "title_wikis = [TextBlobDE(text) for text in df['Title']]\ntitle_polarity = [wiki.sentiment.polarity for wiki in title_wikis]\ntitle_subjectivity = [wiki.sentiment.subjectivity for wiki in title_wikis]\n\ndf['title_polarity'], df['title_subjectivity'] = title_polarity, title_subjectivity"
        },
        {
            "cell_type": "markdown",
            "metadata": {},
            "source": "Polarity and Subjectivity differences per newspaper are shown below:"
        },
        {
            "cell_type": "code",
            "execution_count": 13,
            "metadata": {},
            "outputs": [
                {
                    "name": "stdout",
                    "output_type": "stream",
                    "text": "Polarity:\n"
                },
                {
                    "data": {
                        "text/html": "<div>\n<style scoped>\n    .dataframe tbody tr th:only-of-type {\n        vertical-align: middle;\n    }\n\n    .dataframe tbody tr th {\n        vertical-align: top;\n    }\n\n    .dataframe thead tr th {\n        text-align: left;\n    }\n\n    .dataframe thead tr:last-of-type th {\n        text-align: right;\n    }\n</style>\n<table border=\"1\" class=\"dataframe\">\n  <thead>\n    <tr>\n      <th></th>\n      <th colspan=\"8\" halign=\"left\">title_polarity</th>\n    </tr>\n    <tr>\n      <th></th>\n      <th>count</th>\n      <th>mean</th>\n      <th>std</th>\n      <th>min</th>\n      <th>25%</th>\n      <th>50%</th>\n      <th>75%</th>\n      <th>max</th>\n    </tr>\n    <tr>\n      <th>Newspaper</th>\n      <th></th>\n      <th></th>\n      <th></th>\n      <th></th>\n      <th></th>\n      <th></th>\n      <th></th>\n      <th></th>\n    </tr>\n  </thead>\n  <tbody>\n    <tr>\n      <th>SZ</th>\n      <td>118.0</td>\n      <td>0.049788</td>\n      <td>0.434029</td>\n      <td>-1.0</td>\n      <td>0.0</td>\n      <td>0.0</td>\n      <td>0.0</td>\n      <td>1.0</td>\n    </tr>\n    <tr>\n      <th>Welt</th>\n      <td>195.0</td>\n      <td>-0.004359</td>\n      <td>0.407335</td>\n      <td>-1.0</td>\n      <td>0.0</td>\n      <td>0.0</td>\n      <td>0.0</td>\n      <td>1.0</td>\n    </tr>\n  </tbody>\n</table>\n</div>",
                        "text/plain": "          title_polarity                                             \n                   count      mean       std  min  25%  50%  75%  max\nNewspaper                                                            \nSZ                 118.0  0.049788  0.434029 -1.0  0.0  0.0  0.0  1.0\nWelt               195.0 -0.004359  0.407335 -1.0  0.0  0.0  0.0  1.0"
                    },
                    "execution_count": 13,
                    "metadata": {},
                    "output_type": "execute_result"
                }
            ],
            "source": "print(\"Polarity:\")\ndf[['Newspaper', 'title_polarity']].groupby('Newspaper').describe()"
        },
        {
            "cell_type": "code",
            "execution_count": 14,
            "metadata": {},
            "outputs": [
                {
                    "name": "stdout",
                    "output_type": "stream",
                    "text": "Subjectivity:\n"
                },
                {
                    "data": {
                        "text/html": "<div>\n<style scoped>\n    .dataframe tbody tr th:only-of-type {\n        vertical-align: middle;\n    }\n\n    .dataframe tbody tr th {\n        vertical-align: top;\n    }\n\n    .dataframe thead tr th {\n        text-align: left;\n    }\n\n    .dataframe thead tr:last-of-type th {\n        text-align: right;\n    }\n</style>\n<table border=\"1\" class=\"dataframe\">\n  <thead>\n    <tr>\n      <th></th>\n      <th colspan=\"8\" halign=\"left\">title_subjectivity</th>\n    </tr>\n    <tr>\n      <th></th>\n      <th>count</th>\n      <th>mean</th>\n      <th>std</th>\n      <th>min</th>\n      <th>25%</th>\n      <th>50%</th>\n      <th>75%</th>\n      <th>max</th>\n    </tr>\n    <tr>\n      <th>Newspaper</th>\n      <th></th>\n      <th></th>\n      <th></th>\n      <th></th>\n      <th></th>\n      <th></th>\n      <th></th>\n      <th></th>\n    </tr>\n  </thead>\n  <tbody>\n    <tr>\n      <th>SZ</th>\n      <td>118.0</td>\n      <td>0.027966</td>\n      <td>0.140138</td>\n      <td>0.0</td>\n      <td>0.0</td>\n      <td>0.0</td>\n      <td>0.0</td>\n      <td>1.0</td>\n    </tr>\n    <tr>\n      <th>Welt</th>\n      <td>195.0</td>\n      <td>0.030769</td>\n      <td>0.157549</td>\n      <td>0.0</td>\n      <td>0.0</td>\n      <td>0.0</td>\n      <td>0.0</td>\n      <td>1.0</td>\n    </tr>\n  </tbody>\n</table>\n</div>",
                        "text/plain": "          title_subjectivity                                             \n                       count      mean       std  min  25%  50%  75%  max\nNewspaper                                                                \nSZ                     118.0  0.027966  0.140138  0.0  0.0  0.0  0.0  1.0\nWelt                   195.0  0.030769  0.157549  0.0  0.0  0.0  0.0  1.0"
                    },
                    "execution_count": 14,
                    "metadata": {},
                    "output_type": "execute_result"
                }
            ],
            "source": "print(\"Subjectivity:\")\ndf[['Newspaper', 'title_subjectivity']].groupby('Newspaper').describe()"
        },
        {
            "cell_type": "markdown",
            "metadata": {},
            "source": "## Creating aggregate features\n\nAggregate features are created for word and character counts and normalised using the MinMaxScaler():"
        },
        {
            "cell_type": "code",
            "execution_count": 15,
            "metadata": {},
            "outputs": [],
            "source": "df['title_length'] = df['Title'].str.len()\ndf['title_word_count'] = df['Title'].apply(lambda x: len(x.split()))\ndf['title_avg_word_length'] = ( df['title_length'] - (df['title_word_count'] - 1) ) / df['title_word_count']"
        },
        {
            "cell_type": "markdown",
            "metadata": {},
            "source": "The word count differs by newspaper as shown below:"
        },
        {
            "cell_type": "code",
            "execution_count": 16,
            "metadata": {},
            "outputs": [
                {
                    "data": {
                        "text/html": "<div>\n<style scoped>\n    .dataframe tbody tr th:only-of-type {\n        vertical-align: middle;\n    }\n\n    .dataframe tbody tr th {\n        vertical-align: top;\n    }\n\n    .dataframe thead tr th {\n        text-align: left;\n    }\n\n    .dataframe thead tr:last-of-type th {\n        text-align: right;\n    }\n</style>\n<table border=\"1\" class=\"dataframe\">\n  <thead>\n    <tr>\n      <th></th>\n      <th colspan=\"8\" halign=\"left\">title_word_count</th>\n    </tr>\n    <tr>\n      <th></th>\n      <th>count</th>\n      <th>mean</th>\n      <th>std</th>\n      <th>min</th>\n      <th>25%</th>\n      <th>50%</th>\n      <th>75%</th>\n      <th>max</th>\n    </tr>\n    <tr>\n      <th>Newspaper</th>\n      <th></th>\n      <th></th>\n      <th></th>\n      <th></th>\n      <th></th>\n      <th></th>\n      <th></th>\n      <th></th>\n    </tr>\n  </thead>\n  <tbody>\n    <tr>\n      <th>SZ</th>\n      <td>118.0</td>\n      <td>5.593220</td>\n      <td>2.390284</td>\n      <td>1.0</td>\n      <td>4.0</td>\n      <td>5.0</td>\n      <td>7.0</td>\n      <td>11.0</td>\n    </tr>\n    <tr>\n      <th>Welt</th>\n      <td>195.0</td>\n      <td>7.697436</td>\n      <td>2.633203</td>\n      <td>2.0</td>\n      <td>6.0</td>\n      <td>8.0</td>\n      <td>9.0</td>\n      <td>16.0</td>\n    </tr>\n  </tbody>\n</table>\n</div>",
                        "text/plain": "          title_word_count                                              \n                     count      mean       std  min  25%  50%  75%   max\nNewspaper                                                               \nSZ                   118.0  5.593220  2.390284  1.0  4.0  5.0  7.0  11.0\nWelt                 195.0  7.697436  2.633203  2.0  6.0  8.0  9.0  16.0"
                    },
                    "execution_count": 16,
                    "metadata": {},
                    "output_type": "execute_result"
                }
            ],
            "source": "df[['Newspaper', 'title_word_count']].groupby('Newspaper').describe()"
        },
        {
            "cell_type": "code",
            "execution_count": 17,
            "metadata": {},
            "outputs": [
                {
                    "data": {
                        "text/plain": "<AxesSubplot:xlabel='Newspaper', ylabel='title_word_count'>"
                    },
                    "execution_count": 17,
                    "metadata": {},
                    "output_type": "execute_result"
                },
                {
                    "data": {
                        "image/png": "[encoded data removed]",
                        "text/plain": "<Figure size 432x288 with 1 Axes>"
                    },
                    "metadata": {
                        "needs_background": "light"
                    },
                    "output_type": "display_data"
                }
            ],
            "source": "sns.boxplot(x = 'Newspaper', y = 'title_word_count', data = df)"
        },
        {
            "cell_type": "markdown",
            "metadata": {},
            "source": "## Saving\n\nThis is the resulting data, which is saved for newspaper classification:"
        },
        {
            "cell_type": "code",
            "execution_count": 18,
            "metadata": {},
            "outputs": [
                {
                    "data": {
                        "text/html": "<div>\n<style scoped>\n    .dataframe tbody tr th:only-of-type {\n        vertical-align: middle;\n    }\n\n    .dataframe tbody tr th {\n        vertical-align: top;\n    }\n\n    .dataframe thead th {\n        text-align: right;\n    }\n</style>\n<table border=\"1\" class=\"dataframe\">\n  <thead>\n    <tr style=\"text-align: right;\">\n      <th></th>\n      <th>Title</th>\n      <th>Newspaper</th>\n      <th>DateTime</th>\n      <th>title_nlp_0</th>\n      <th>title_nlp_1</th>\n      <th>title_nlp_2</th>\n      <th>title_nlp_3</th>\n      <th>title_nlp_4</th>\n      <th>title_nlp_5</th>\n      <th>title_nlp_6</th>\n      <th>...</th>\n      <th>title_nlp_91</th>\n      <th>title_nlp_92</th>\n      <th>title_nlp_93</th>\n      <th>title_nlp_94</th>\n      <th>title_nlp_95</th>\n      <th>title_polarity</th>\n      <th>title_subjectivity</th>\n      <th>title_length</th>\n      <th>title_word_count</th>\n      <th>title_avg_word_length</th>\n    </tr>\n  </thead>\n  <tbody>\n    <tr>\n      <th>0</th>\n      <td>Taliban versprechen \"Amnestie\" - und werben f\u00fc...</td>\n      <td>SZ</td>\n      <td>2021-08-17 10:00:51.109716</td>\n      <td>1.056343</td>\n      <td>-0.331942</td>\n      <td>0.377576</td>\n      <td>-0.755563</td>\n      <td>1.121652</td>\n      <td>1.051834</td>\n      <td>-0.692204</td>\n      <td>...</td>\n      <td>-0.145574</td>\n      <td>0.003700</td>\n      <td>-0.349982</td>\n      <td>-0.764239</td>\n      <td>-0.042902</td>\n      <td>1.0</td>\n      <td>0.0</td>\n      <td>73</td>\n      <td>11</td>\n      <td>5.727273</td>\n    </tr>\n    <tr>\n      <th>1</th>\n      <td>Frau tot aus dem Wasser geborgen</td>\n      <td>SZ</td>\n      <td>2021-08-17 10:00:51.109716</td>\n      <td>0.482346</td>\n      <td>-1.360563</td>\n      <td>2.204261</td>\n      <td>-0.980908</td>\n      <td>0.938673</td>\n      <td>2.182759</td>\n      <td>0.753072</td>\n      <td>...</td>\n      <td>-1.245529</td>\n      <td>-0.426957</td>\n      <td>-0.187530</td>\n      <td>0.610376</td>\n      <td>-0.090306</td>\n      <td>-1.0</td>\n      <td>0.0</td>\n      <td>32</td>\n      <td>6</td>\n      <td>4.500000</td>\n    </tr>\n    <tr>\n      <th>2</th>\n      <td>Wenn ein einzelner Corona-Fall zum Lockdown f\u00fchrt</td>\n      <td>SZ</td>\n      <td>2021-08-17 10:00:51.109716</td>\n      <td>0.719709</td>\n      <td>0.718557</td>\n      <td>1.878793</td>\n      <td>0.517712</td>\n      <td>0.685538</td>\n      <td>1.683592</td>\n      <td>0.760514</td>\n      <td>...</td>\n      <td>1.376056</td>\n      <td>0.862674</td>\n      <td>-1.260844</td>\n      <td>-0.054087</td>\n      <td>-0.305862</td>\n      <td>0.0</td>\n      <td>0.0</td>\n      <td>49</td>\n      <td>7</td>\n      <td>6.142857</td>\n    </tr>\n    <tr>\n      <th>3</th>\n      <td>Mit diesen Argumenten \u00fcberzeugen Sie Impfskept...</td>\n      <td>SZ</td>\n      <td>2021-08-17 10:00:51.109716</td>\n      <td>1.173115</td>\n      <td>0.131595</td>\n      <td>-1.171353</td>\n      <td>-0.516909</td>\n      <td>-0.515251</td>\n      <td>1.939519</td>\n      <td>1.228320</td>\n      <td>...</td>\n      <td>-1.644382</td>\n      <td>-1.046088</td>\n      <td>-1.202309</td>\n      <td>0.199285</td>\n      <td>1.258943</td>\n      <td>1.0</td>\n      <td>0.0</td>\n      <td>50</td>\n      <td>6</td>\n      <td>7.500000</td>\n    </tr>\n    <tr>\n      <th>4</th>\n      <td>Vier Silben n\u00e4hren die Titelhoffnungen</td>\n      <td>SZ</td>\n      <td>2021-08-17 10:00:51.109716</td>\n      <td>1.485402</td>\n      <td>-0.082825</td>\n      <td>0.894071</td>\n      <td>0.251246</td>\n      <td>-0.263389</td>\n      <td>0.542428</td>\n      <td>1.021385</td>\n      <td>...</td>\n      <td>-0.847832</td>\n      <td>-0.782896</td>\n      <td>-1.793984</td>\n      <td>2.312975</td>\n      <td>-0.406768</td>\n      <td>0.0</td>\n      <td>0.0</td>\n      <td>38</td>\n      <td>5</td>\n      <td>6.800000</td>\n    </tr>\n  </tbody>\n</table>\n<p>5 rows \u00d7 104 columns</p>\n</div>",
                        "text/plain": "                                               Title Newspaper  \\\n0  Taliban versprechen \"Amnestie\" - und werben f\u00fc...        SZ   \n1                   Frau tot aus dem Wasser geborgen        SZ   \n2  Wenn ein einzelner Corona-Fall zum Lockdown f\u00fchrt        SZ   \n3  Mit diesen Argumenten \u00fcberzeugen Sie Impfskept...        SZ   \n4             Vier Silben n\u00e4hren die Titelhoffnungen        SZ   \n\n                     DateTime  title_nlp_0  title_nlp_1  title_nlp_2  \\\n0  2021-08-17 10:00:51.109716     1.056343    -0.331942     0.377576   \n1  2021-08-17 10:00:51.109716     0.482346    -1.360563     2.204261   \n2  2021-08-17 10:00:51.109716     0.719709     0.718557     1.878793   \n3  2021-08-17 10:00:51.109716     1.173115     0.131595    -1.171353   \n4  2021-08-17 10:00:51.109716     1.485402    -0.082825     0.894071   \n\n   title_nlp_3  title_nlp_4  title_nlp_5  title_nlp_6  ...  title_nlp_91  \\\n0    -0.755563     1.121652     1.051834    -0.692204  ...     -0.145574   \n1    -0.980908     0.938673     2.182759     0.753072  ...     -1.245529   \n2     0.517712     0.685538     1.683592     0.760514  ...      1.376056   \n3    -0.516909    -0.515251     1.939519     1.228320  ...     -1.644382   \n4     0.251246    -0.263389     0.542428     1.021385  ...     -0.847832   \n\n   title_nlp_92  title_nlp_93  title_nlp_94  title_nlp_95  title_polarity  \\\n0      0.003700     -0.349982     -0.764239     -0.042902             1.0   \n1     -0.426957     -0.187530      0.610376     -0.090306            -1.0   \n2      0.862674     -1.260844     -0.054087     -0.305862             0.0   \n3     -1.046088     -1.202309      0.199285      1.258943             1.0   \n4     -0.782896     -1.793984      2.312975     -0.406768             0.0   \n\n   title_subjectivity  title_length  title_word_count  title_avg_word_length  \n0                 0.0            73                11               5.727273  \n1                 0.0            32                 6               4.500000  \n2                 0.0            49                 7               6.142857  \n3                 0.0            50                 6               7.500000  \n4                 0.0            38                 5               6.800000  \n\n[5 rows x 104 columns]"
                    },
                    "execution_count": 18,
                    "metadata": {},
                    "output_type": "execute_result"
                }
            ],
            "source": "df.head()"
        },
        {
            "cell_type": "code",
            "execution_count": 19,
            "metadata": {},
            "outputs": [
                {
                    "data": {
                        "text/plain": "{'file_name': 'Newspaper_Data_Processed.csv',\n 'message': 'File saved to project storage.',\n 'bucket_name': 'newspaperclassification-donotdelete-pr-htkved6zqhsjcj',\n 'asset_id': '8b89c69b-cf63-4763-b8c1-7ba23c8a1488'}"
                    },
                    "execution_count": 19,
                    "metadata": {},
                    "output_type": "execute_result"
                }
            ],
            "source": "project.save_data(file_name = \"Newspaper_Data_Processed.csv\", data = df.to_csv(index = False), set_project_asset=True, overwrite=True)"
        },
        {
            "cell_type": "code",
            "execution_count": null,
            "metadata": {},
            "outputs": [],
            "source": ""
        }
    ],
    "metadata": {
        "kernelspec": {
            "display_name": "Python 3.8",
            "language": "python",
            "name": "python3"
        },
        "language_info": {
            "codemirror_mode": {
                "name": "ipython",
                "version": 3
            },
            "file_extension": ".py",
            "mimetype": "text/x-python",
            "name": "python",
            "nbconvert_exporter": "python",
            "pygments_lexer": "ipython3",
            "version": "3.8.10"
        }
    },
    "nbformat": 4,
    "nbformat_minor": 1
}